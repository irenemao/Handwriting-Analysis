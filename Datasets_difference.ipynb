{
 "cells": [
  {
   "cell_type": "code",
   "execution_count": 42,
   "metadata": {},
   "outputs": [],
   "source": [
    "import numpy as np\n",
    "import pandas as pd\n",
    "from scipy import stats\n",
    "import pylab\n",
    "import matplotlib.pyplot as plt\n",
    "import math\n",
    "from mpl_toolkits.mplot3d import Axes3D\n",
    "from statsmodels.stats.diagnostic import lilliefors\n",
    "# %matplotlib inline\n",
    "from warnings import simplefilter\n",
    "simplefilter(action = 'ignore', category=FutureWarning)\n",
    "simplefilter(action = 'ignore', category=RuntimeWarning)"
   ]
  },
  {
   "cell_type": "code",
   "execution_count": 2,
   "metadata": {},
   "outputs": [],
   "source": [
    "pahaw_x = pd.read_csv('PaHaW_X_nor.csv')\n",
    "pahaw_x.columns = [\"nvv_x\", \"nvv_y\", \"nvv\", \"npv\", \"jerk_x\", \"jerk_y\", \"jerk\", \"nca_max_x\", \"nca_max_y\", \"nca_min_x\", \"nca_min_y\", \"nca_max\", \"nca_min\", \"ncv_max_x\", \"ncv_max_y\", \"ncv_min_x\", \"ncv_min_y\", \"ncv_max\", \"ncv_min\", \"ncv_nca_max_x\", \"ncv_nca_max_y\", \"ncv_nca_min_x\", \"ncv_nca_min_y\", \"ncv_nca_max\", \"ncv_nca_min\", \"ncp_max\", \"ncp_min\", \"std_pre\", 'std_grip', 'mean_grip', \"duration\", 'entropy_S', 'pressure_iqr', 'grip_iqr', 'mv', 'width', 'height', 'displacement', 'energy_x', 'energy_y', 'label']\n",
    "\n",
    "pahaw_X = np.array(pahaw_x)\n",
    "pahaw_y =pd.read_csv('PaHaW_y.csv')\n",
    "pahaw_y.columns = ['result']"
   ]
  },
  {
   "cell_type": "code",
   "execution_count": 3,
   "metadata": {},
   "outputs": [],
   "source": [
    "pahaw = pd.concat([pahaw_x,pahaw_y], axis=1)"
   ]
  },
  {
   "cell_type": "code",
   "execution_count": 17,
   "metadata": {},
   "outputs": [],
   "source": [
    "pahaw_hc = pahaw.loc[pahaw['result'] == 0]"
   ]
  },
  {
   "cell_type": "code",
   "execution_count": 2,
   "metadata": {},
   "outputs": [],
   "source": [
    "pahaw_x = pd.read_csv('PaHaW_fft_X.csv')\n",
    "pahaw_x.columns = ['vel', 'pre']\n",
    "pahaw_X = np.array(pahaw_x)\n",
    "pahaw_y =pd.read_csv('PaHaW_fft_y.csv')\n",
    "pahaw_y.columns = ['result']"
   ]
  },
  {
   "cell_type": "code",
   "execution_count": 8,
   "metadata": {},
   "outputs": [],
   "source": [
    "hw_x = pd.read_csv('HW_X_nor.csv')\n",
    "hw_x.columns = [\"nvv_x\", \"nvv_y\", \"nvv\", \"npv\", \"jerk_x\", \"jerk_y\", \"jerk\", \"nca_max_x\", \"nca_max_y\", \"nca_min_x\", \"nca_min_y\", \"nca_max\", \"nca_min\", \"ncv_max_x\", \"ncv_max_y\", \"ncv_min_x\", \"ncv_min_y\", \"ncv_max\", \"ncv_min\", \"ncv_nca_max_x\", \"ncv_nca_max_y\", \"ncv_nca_min_x\", \"ncv_nca_min_y\", \"ncv_nca_max\", \"ncv_nca_min\", \"ncp_max\", \"ncp_min\", \"std_pre\", 'std_grip', 'mean_grip', \"duration\", 'entropy_S', 'pressure_iqr', 'grip_iqr', 'mv', 'width', 'height', 'displacement', 'energy_x', 'energy_y', 'label']\n",
    "hw_X = np.array(hw_x)\n",
    "hw_y = pd.read_csv('HW_y.csv')\n",
    "hw_y.columns = ['result']"
   ]
  },
  {
   "cell_type": "code",
   "execution_count": 9,
   "metadata": {},
   "outputs": [],
   "source": [
    "hw = pd.concat([hw_x,hw_y], axis=1)\n",
    "hw_hc = hw.loc[hw['result'] == 0]"
   ]
  },
  {
   "cell_type": "code",
   "execution_count": 6,
   "metadata": {},
   "outputs": [],
   "source": [
    "hw_x = pd.read_csv('HW_fft_X.csv')\n",
    "hw_x.columns = ['vel', 'pre']\n",
    "hw_X = np.array(hw_x)\n",
    "hw_y = pd.read_csv('HW_fft_y.csv')\n",
    "hw_y.columns = ['result']"
   ]
  },
  {
   "cell_type": "code",
   "execution_count": 44,
   "metadata": {},
   "outputs": [],
   "source": [
    "c_x = pd.read_csv('combine_X_nor.csv')\n",
    "c_x.columns = [\"nvv_x\", \"nvv_y\", \"nvv\", \"npv\", \"jerk_x\", \"jerk_y\", \"jerk\", \"nca_max_x\", \"nca_max_y\", \"nca_min_x\", \"nca_min_y\", \"nca_max\", \"nca_min\", \"ncv_max_x\", \"ncv_max_y\", \"ncv_min_x\", \"ncv_min_y\", \"ncv_max\", \"ncv_min\", \"ncv_nca_max_x\", \"ncv_nca_max_y\", \"ncv_nca_min_x\", \"ncv_nca_min_y\", \"ncv_nca_max\", \"ncv_nca_min\", \"ncp_max\", \"ncp_min\", \"std_pre\", 'std_grip', 'mean_grip', \"duration\", 'entropy_S', 'pressure_iqr', 'grip_iqr', 'mv', 'width', 'height', 'displacement', 'energy_x', 'energy_y', 'label']\n",
    "\n",
    "# c_X = np.array(c_x)\n",
    "c_y = pd.read_csv('combine_y_nor.csv')\n",
    "c_y.columns =['result']"
   ]
  },
  {
   "cell_type": "code",
   "execution_count": 45,
   "metadata": {},
   "outputs": [],
   "source": [
    "#1 -- PaHaW\n",
    "#2 -- Parkinson_HW\n",
    "df1 = c_x.iloc[:67, :].values\n",
    "pahaw_x = pd.DataFrame(df1)\n",
    "pahaw_x.columns = [\"nvv_x\", \"nvv_y\", \"nvv\", \"npv\", \"jerk_x\", \"jerk_y\", \"jerk\", \"nca_max_x\", \"nca_max_y\", \"nca_min_x\", \"nca_min_y\", \"nca_max\", \"nca_min\", \"ncv_max_x\", \"ncv_max_y\", \"ncv_min_x\", \"ncv_min_y\", \"ncv_max\", \"ncv_min\", \"ncv_nca_max_x\", \"ncv_nca_max_y\", \"ncv_nca_min_x\", \"ncv_nca_min_y\", \"ncv_nca_max\", \"ncv_nca_min\", \"ncp_max\", \"ncp_min\", \"std_pre\", 'std_grip', 'mean_grip', \"duration\", 'entropy_S', 'pressure_iqr', 'grip_iqr', 'mv', 'width', 'height', 'displacement', 'energy_x', 'energy_y', 'label']\n",
    "\n",
    "df2 = c_x.iloc[67:, :].values\n",
    "hw_x = pd.DataFrame(df2)\n",
    "hw_x.columns = [\"nvv_x\", \"nvv_y\", \"nvv\", \"npv\", \"jerk_x\", \"jerk_y\", \"jerk\", \"nca_max_x\", \"nca_max_y\", \"nca_min_x\", \"nca_min_y\", \"nca_max\", \"nca_min\", \"ncv_max_x\", \"ncv_max_y\", \"ncv_min_x\", \"ncv_min_y\", \"ncv_max\", \"ncv_min\", \"ncv_nca_max_x\", \"ncv_nca_max_y\", \"ncv_nca_min_x\", \"ncv_nca_min_y\", \"ncv_nca_max\", \"ncv_nca_min\", \"ncp_max\", \"ncp_min\", \"std_pre\", 'std_grip', 'mean_grip', \"duration\", 'entropy_S', 'pressure_iqr', 'grip_iqr', 'mv', 'width', 'height', 'displacement', 'energy_x', 'energy_y', 'label']\n"
   ]
  },
  {
   "cell_type": "code",
   "execution_count": 46,
   "metadata": {
    "scrolled": true
   },
   "outputs": [
    {
     "data": {
      "image/png": "[encoded data removed]",
      "text/plain": [
       "<Figure size 432x288 with 1 Axes>"
      ]
     },
     "metadata": {
      "needs_background": "light"
     },
     "output_type": "display_data"
    }
   ],
   "source": [
    "#entropy_S, duration, ncp_max, ncp_min are comparable\n",
    "\n",
    "feature1 = df1[:,3].astype(float)\n",
    "feature2 = df1[:,25].astype(float)\n",
    "feature3 = df2[:, 3].astype(float)\n",
    "feature4 = df2[:, 25].astype(float)\n",
    "\n",
    "plt.scatter(feature1, feature2, c='r', label='pahaw')\n",
    "plt.scatter(feature3, feature4, c='b', label='hw')\n",
    "plt.xlabel(c_x.columns[3])\n",
    "plt.ylabel(c_x.columns[25])\n",
    "plt.title('Datasets Plot')\n",
    "plt.legend()\n",
    "plt.show()"
   ]
  },
  {
   "cell_type": "code",
   "execution_count": 33,
   "metadata": {},
   "outputs": [
    {
     "data": {
      "image/png": "[encoded data removed]",
      "text/plain": [
       "<Figure size 432x288 with 1 Axes>"
      ]
     },
     "metadata": {
      "needs_background": "light"
     },
     "output_type": "display_data"
    }
   ],
   "source": [
    "df = pd.DataFrame(dict(x=pahaw_x['displacement'], y=pahaw_x['npv'], label=pahaw_y['result']))\n",
    "groups = df.groupby('label')\n",
    "fig, ax = plt.subplots()\n",
    "ax.margins(0.05) # Optional, just adds 5% padding to the autoscaling\n",
    "for name, group in groups:\n",
    "    if name == 0:\n",
    "        temp = 'HC'\n",
    "    else:\n",
    "        temp = 'PD'\n",
    "    ax.plot(group.x, group.y, marker='o', linestyle='', ms=12, label=temp)\n",
    "ax.set_xlabel('displacement')\n",
    "ax.set_ylabel('npv')\n",
    "ax.set_title('Feature Selection Plot')\n",
    "ax.legend()\n",
    "\n",
    "plt.show()"
   ]
  },
  {
   "cell_type": "code",
   "execution_count": 24,
   "metadata": {},
   "outputs": [
    {
     "data": {
      "image/png": "[encoded data removed]",
      "text/plain": [
       "<Figure size 432x288 with 1 Axes>"
      ]
     },
     "metadata": {
      "needs_background": "light"
     },
     "output_type": "display_data"
    }
   ],
   "source": [
    "df = pd.DataFrame(dict(x=hw_x['jerk_x'], y=hw_x['duration'], label=hw_y['result']))\n",
    "groups = df.groupby('label')\n",
    "fig, ax = plt.subplots()\n",
    "ax.margins(0.05) # Optional, just adds 5% padding to the autoscaling\n",
    "for name, group in groups:\n",
    "    if name == 0:\n",
    "        temp = 'HC'\n",
    "    else:\n",
    "        temp = 'PD'\n",
    "    ax.plot(group.x, group.y, marker='o', linestyle='', ms=12, label=temp)\n",
    "ax.set_xlabel('jerk_x')\n",
    "ax.set_ylabel('duration')\n",
    "ax.set_title('Feature Selection Plot')\n",
    "ax.legend()\n",
    "\n",
    "plt.show()"
   ]
  },
  {
   "cell_type": "code",
   "execution_count": 7,
   "metadata": {
    "scrolled": true
   },
   "outputs": [
    {
     "name": "stdout",
     "output_type": "stream",
     "text": [
      "vel p=0.453\n",
      "pre p=0.613\n",
      "vel p=0.810\n",
      "pre Samples are correlated (reject H0) p=0.002\n"
     ]
    }
   ],
   "source": [
    "# calculate the spearman's correlation between two variables\n",
    "from numpy.random import rand\n",
    "from scipy.stats import spearmanr\n",
    "\n",
    "# calculate spearman's correlation\n",
    "for column in pahaw_x:\n",
    "    coef, p = spearmanr(pahaw_x[column], pahaw_y['result'])\n",
    "#     print('Spearmans correlation coefficient: %.3f' % coef)\n",
    "# interpret the significance\n",
    "    alpha = 0.05\n",
    "    if p > alpha:\n",
    "        print(column +  ' p=%.3f' % p)\n",
    "    else:\n",
    "        print(column + ' Samples are correlated (reject H0) p=%.3f' % p)\n",
    "        \n",
    "for column in hw_x:\n",
    "    coef, p = spearmanr(hw_x[column], hw_y['result'])\n",
    "#     print('Spearmans correlation coefficient: %.3f' % coef)\n",
    "# interpret the significance\n",
    "    alpha = 0.05\n",
    "    if p > alpha:\n",
    "        print(column +  ' p=%.3f' % p)\n",
    "    else:\n",
    "        print(column + ' Samples are correlated (reject H0) p=%.3f' % p)\n",
    "        "
   ]
  },
  {
   "cell_type": "code",
   "execution_count": 11,
   "metadata": {
    "scrolled": true
   },
   "outputs": [
    {
     "name": "stdout",
     "output_type": "stream",
     "text": [
      "data are not normal distributed\n",
      "data are not normal distributed\n",
      "data are not normal distributed\n",
      "data are not normal distributed\n",
      "data are not normal distributed\n",
      "data are not normal distributed\n",
      "data are not normal distributed\n",
      "data are not normal distributed\n",
      "data are not normal distributed\n",
      "data are not normal distributed\n",
      "data are not normal distributed\n",
      "data are not normal distributed\n",
      "data are not normal distributed\n",
      "data are not normal distributed\n",
      "data are not normal distributed\n",
      "data are not normal distributed\n",
      "data are not normal distributed\n",
      "data are not normal distributed\n",
      "data are not normal distributed\n",
      "data are not normal distributed\n",
      "data are not normal distributed\n",
      "data are not normal distributed\n",
      "data are not normal distributed\n",
      "data are not normal distributed\n",
      "data are not normal distributed\n",
      "data are not normal distributed\n",
      "data are not normal distributed\n",
      "std_pre data are normal distributed\n",
      "std_grip data are normal distributed\n",
      "data are not normal distributed\n",
      "duration data are normal distributed\n",
      "entropy_S data are normal distributed\n",
      "data are not normal distributed\n",
      "grip_iqr data are normal distributed\n",
      "data are not normal distributed\n",
      "width data are normal distributed\n",
      "height data are normal distributed\n",
      "displacement data are normal distributed\n",
      "data are not normal distributed\n",
      "data are not normal distributed\n",
      "label data are normal distributed\n"
     ]
    }
   ],
   "source": [
    "#for sample size over 50 up to 300 (PaHaW)\n",
    "for column in pahaw_x:\n",
    "    \n",
    "    ksstat, p_value= lilliefors(pahaw_hc[column])\n",
    "    if p_value < 0.1:\n",
    "        print (\"data are not normal distributed\")\n",
    "    else:\n",
    "        print (column, \"data are normal distributed\")\n"
   ]
  },
  {
   "cell_type": "code",
   "execution_count": 12,
   "metadata": {
    "scrolled": true
   },
   "outputs": [
    {
     "name": "stdout",
     "output_type": "stream",
     "text": [
      "data are not normal distributed\n",
      "data are not normal distributed\n",
      "nvv data are normal distributed\n",
      "npv data are normal distributed\n",
      "data are not normal distributed\n",
      "data are not normal distributed\n",
      "jerk data are normal distributed\n",
      "nca_max_x data are normal distributed\n",
      "nca_max_y data are normal distributed\n",
      "nca_min_x data are normal distributed\n",
      "nca_min_y data are normal distributed\n",
      "nca_max data are normal distributed\n",
      "nca_min data are normal distributed\n",
      "ncv_max_x data are normal distributed\n",
      "ncv_max_y data are normal distributed\n",
      "ncv_min_x data are normal distributed\n",
      "ncv_min_y data are normal distributed\n",
      "ncv_max data are normal distributed\n",
      "data are not normal distributed\n",
      "ncv_nca_max_x data are normal distributed\n",
      "ncv_nca_max_y data are normal distributed\n",
      "ncv_nca_min_x data are normal distributed\n",
      "ncv_nca_min_y data are normal distributed\n",
      "ncv_nca_max data are normal distributed\n",
      "ncv_nca_min data are normal distributed\n",
      "ncp_max data are normal distributed\n",
      "ncp_min data are normal distributed\n",
      "std_pre data are normal distributed\n",
      "std_grip data are normal distributed\n",
      "mean_grip data are normal distributed\n",
      "data are not normal distributed\n",
      "entropy_S data are normal distributed\n",
      "pressure_iqr data are normal distributed\n",
      "grip_iqr data are normal distributed\n",
      "mv data are normal distributed\n",
      "data are not normal distributed\n",
      "data are not normal distributed\n",
      "data are not normal distributed\n",
      "energy_x data are normal distributed\n",
      "energy_y data are normal distributed\n",
      "label data are normal distributed\n"
     ]
    }
   ],
   "source": [
    "#for sample size over 50 up to 300 (Parkinson_HW)\n",
    "for column in hw_x:\n",
    "    \n",
    "    ksstat, p_value= lilliefors(hw_hc[column])\n",
    "    if p_value < 0.1:\n",
    "        print (\"data are not normal distributed\")\n",
    "    else:\n",
    "        print (column, \"data are normal distributed\")\n"
   ]
  },
  {
   "cell_type": "code",
   "execution_count": 7,
   "metadata": {},
   "outputs": [
    {
     "data": {
      "text/plain": [
       "0.9781688869681364"
      ]
     },
     "execution_count": 7,
     "metadata": {},
     "output_type": "execute_result"
    }
   ],
   "source": [
    "import statistics\n",
    "statistics.pstdev(pahaw_x.iloc[:,31])"
   ]
  },
  {
   "cell_type": "code",
   "execution_count": 14,
   "metadata": {
    "scrolled": false
   },
   "outputs": [
    {
     "name": "stdout",
     "output_type": "stream",
     "text": [
      "False\n",
      "True\n",
      "False\n",
      "True\n"
     ]
    }
   ],
   "source": [
    "#Anova test for std_pre, std_grip, entropy_S, grip_iqr\n",
    "\n",
    "r, p_entropy_s = stats.f_oneway(pahaw_hc['std_pre'], hw_hc['std_pre'])\n",
    "print(p_entropy_s > 0.05)\n",
    "\n",
    "r, p_entropy_s = stats.f_oneway(pahaw_hc['std_grip'], hw_hc['std_grip'])\n",
    "print(p_entropy_s > 0.05)\n",
    "\n",
    "r, p_entropy_s = stats.f_oneway(pahaw_hc['entropy_S'], hw_hc['entropy_S'])\n",
    "print(p_entropy_s > 0.05)\n",
    "\n",
    "r, p_entropy_s = stats.f_oneway(pahaw_hc['grip_iqr'], hw_hc['grip_iqr'])\n",
    "print(p_entropy_s > 0.05)\n",
    "\n",
    "\n",
    "# stats.kruskal(pahaw_x.iloc[:,31], hw_x.iloc[:,31])\n"
   ]
  },
  {
   "cell_type": "code",
   "execution_count": 15,
   "metadata": {},
   "outputs": [],
   "source": [
    "#two-sample Kolmogorov-Smirnov test for other features\n",
    "from scipy.stats import ks_2samp\n",
    "\n",
    "result = []\n",
    "\n",
    "for i in range(len(hw_hc.columns)):\n",
    "\n",
    "#         value = []\n",
    "    stats, p_value = ks_2samp(pahaw_hc.iloc[:,i], hw_hc.iloc[:,i])\n",
    "    result.append([i, stats, p_value])\n",
    "        \n"
   ]
  },
  {
   "cell_type": "code",
   "execution_count": 16,
   "metadata": {},
   "outputs": [
    {
     "data": {
      "text/html": [
       "<div>\n",
       "<style scoped>\n",
       "    .dataframe tbody tr th:only-of-type {\n",
       "        vertical-align: middle;\n",
       "    }\n",
       "\n",
       "    .dataframe tbody tr th {\n",
       "        vertical-align: top;\n",
       "    }\n",
       "\n",
       "    .dataframe thead th {\n",
       "        text-align: right;\n",
       "    }\n",
       "</style>\n",
       "<table border=\"1\" class=\"dataframe\">\n",
       "  <thead>\n",
       "    <tr style=\"text-align: right;\">\n",
       "      <th></th>\n",
       "      <th>feature id</th>\n",
       "      <th>statistics</th>\n",
       "      <th>P value</th>\n",
       "    </tr>\n",
       "  </thead>\n",
       "  <tbody>\n",
       "    <tr>\n",
       "      <th>3</th>\n",
       "      <td>3</td>\n",
       "      <td>0.172222</td>\n",
       "      <td>0.881148</td>\n",
       "    </tr>\n",
       "    <tr>\n",
       "      <th>25</th>\n",
       "      <td>25</td>\n",
       "      <td>0.361111</td>\n",
       "      <td>0.096750</td>\n",
       "    </tr>\n",
       "    <tr>\n",
       "      <th>26</th>\n",
       "      <td>26</td>\n",
       "      <td>0.361111</td>\n",
       "      <td>0.096750</td>\n",
       "    </tr>\n",
       "    <tr>\n",
       "      <th>30</th>\n",
       "      <td>30</td>\n",
       "      <td>0.394444</td>\n",
       "      <td>0.053908</td>\n",
       "    </tr>\n",
       "    <tr>\n",
       "      <th>41</th>\n",
       "      <td>41</td>\n",
       "      <td>0.000000</td>\n",
       "      <td>1.000000</td>\n",
       "    </tr>\n",
       "  </tbody>\n",
       "</table>\n",
       "</div>"
      ],
      "text/plain": [
       "    feature id  statistics   P value\n",
       "3            3    0.172222  0.881148\n",
       "25          25    0.361111  0.096750\n",
       "26          26    0.361111  0.096750\n",
       "30          30    0.394444  0.053908\n",
       "41          41    0.000000  1.000000"
      ]
     },
     "execution_count": 16,
     "metadata": {},
     "output_type": "execute_result"
    }
   ],
   "source": [
    "kol_result = pd.DataFrame(result)\n",
    "kol_result.columns = ['feature id', 'statistics', 'P value']\n",
    "        \n",
    "kol_result.loc[kol_result['P value'] > 0.05]"
   ]
  },
  {
   "cell_type": "markdown",
   "metadata": {},
   "source": [
    "entropy_S, duration, NCP_max, NCP_min are not significantly different"
   ]
  },
  {
   "cell_type": "code",
   "execution_count": 29,
   "metadata": {},
   "outputs": [],
   "source": [
    "# X = np.array(final_data[[\"nvv_x\", \"nvv_y\", \"nvv\", \"npv\", \"jerk_x\", \"jerk_y\", \"jerk\", \"nca_max_x\", \"nca_max_y\", \"nca_min_x\", \"nca_min_y\", \"nca_max\", \"nca_min\", \"ncv_max_x\", \"ncv_max_y\", \"ncv_min_x\", \"ncv_min_y\", \"ncv_max\", \"ncv_min\", \"ncv_nca_max_x\", \"ncv_nca_max_y\", \"ncv_nca_min_x\", \"ncv_nca_min_y\", \"ncv_nca_max\", \"ncv_nca_min\", \"ncp_max\", \"ncp_min\", \"std_pre\", 'std_grip', 'mean_grip', \"duration\", 'entropy_S', 'pressure_iqr', 'mv', 'sdv', 'width', 'height', 'displacement', 'energy_x', 'energy_y', 'label']])\n",
    "X = np.array(c_x[['ncp_max', 'ncp_min', 'duration', 'npv', 'std_grip', 'grip_iqr']])\n",
    "y = np.array(c_y['result'])"
   ]
  },
  {
   "cell_type": "code",
   "execution_count": 17,
   "metadata": {},
   "outputs": [],
   "source": [
    "def plot_decision_boundary(trues, falses):\n",
    "    fig = plt.figure()\n",
    "    ax = fig.add_subplot(111)\n",
    "\n",
    "    no_of_preds = len(trues) + len(falses)\n",
    "\n",
    "    ax.scatter([i for i in range(len(trues))], trues, s=25, c='b', marker=\"o\", label='Trues')\n",
    "    ax.scatter([i for i in range(len(falses))], falses, s=25, c='r', marker=\"s\", label='Falses')\n",
    "\n",
    "    plt.legend(loc='upper right');\n",
    "    ax.set_title(\"Decision Boundary\")\n",
    "    ax.set_xlabel('N/2')\n",
    "    ax.set_ylabel('Predicted Probability')\n",
    "    plt.axhline(.5, color='black')\n",
    "    plt.show()"
   ]
  },
  {
   "cell_type": "code",
   "execution_count": 41,
   "metadata": {},
   "outputs": [
    {
     "name": "stdout",
     "output_type": "stream",
     "text": [
      "[  5   7  12  15  18  31  54  61  86 116 127 133 134 136]\n",
      "True: [1 1 1 1 0 1 0 0 1 1 1 1 1 1]\n",
      "False: [1 1 1 1 0 0 1 1 1 1 1 1 1 1]\n",
      "[ 26  35  38  43  50  84  89  99 101 103 111 112 124 126]\n",
      "True: [1 0 1 0 1 1 1 1 1 1 1 1 1 1]\n",
      "False: [0 1 1 1 1 1 1 1 1 1 1 1 1 1]\n",
      "[ 39  51  52  53  65  71  78  79  82  88 102 104 109 110]\n",
      "True: [0 0 1 1 0 0 0 0 1 1 1 1 1 1]\n",
      "False: [1 1 1 0 1 1 1 1 1 1 1 1 1 1]\n",
      "[  0   4  10  28  41  46  49  64  70  72  91  93 118 129]\n",
      "True: [1 1 1 0 0 0 1 0 0 0 1 1 1 1]\n",
      "False: [0 0 1 1 0 0 1 1 1 1 1 1 1 1]\n",
      "[ 21  22  37  56  59  60  74  76  83  90 106 120 122 128]\n",
      "True: [0 0 1 0 0 0 0 0 1 1 1 1 1 1]\n",
      "False: [1 1 1 1 1 1 1 1 1 1 0 1 0 1]\n",
      "[  9  17  19  30  47  48  77  81  85  95 107 123 137 138]\n",
      "True: [1 0 0 1 0 0 0 0 1 1 1 1 1 1]\n",
      "False: [1 1 1 0 1 0 1 1 1 1 1 1 1 1]\n",
      "[  1   2   3   6  16  25  62  66  67  73  75  80  97 113]\n",
      "True: [1 1 1 1 1 1 0 1 0 0 0 0 1 1]\n",
      "False: [1 0 0 1 0 1 1 0 1 1 1 1 1 1]\n",
      "[ 13  14  23  24  27  34  40  42  55  58  63  94 108 131]\n",
      "True: [1 1 0 1 0 0 0 0 0 0 0 1 1 1]\n",
      "False: [1 1 1 1 1 1 1 1 1 1 1 1 1 1]\n",
      "[ 11  20  32  36  44  45  69  87  98 100 105 114 125 135]\n",
      "True: [1 0 1 1 0 0 0 1 1 1 1 1 1 1]\n",
      "False: [1 0 1 0 0 1 1 1 1 1 1 1 1 1]\n",
      "[  8  29  33  57  68  92  96 115 117 119 121 130 132]\n",
      "True: [1 0 0 0 0 1 1 1 1 1 1 1 1]\n",
      "False: [1 1 1 1 1 1 1 1 1 1 1 1 1]\n",
      "0.5835164835164836\n",
      "0.6257009657009658\n",
      "0.8495598845598845\n",
      "[[ 6 45]\n",
      " [13 75]]\n"
     ]
    }
   ],
   "source": [
    "## 10-FOLD\n",
    "from sklearn.linear_model import LogisticRegression\n",
    "from sklearn import tree\n",
    "from sklearn.svm import SVC\n",
    "from sklearn import svm\n",
    "from sklearn.ensemble import RandomForestClassifier\n",
    "from sklearn.naive_bayes import GaussianNB\n",
    "from sklearn.datasets import make_classification\n",
    "from sklearn.metrics import recall_score\n",
    "from sklearn.metrics import accuracy_score\n",
    "from sklearn.metrics import precision_score\n",
    "from sklearn.model_selection import KFold\n",
    "from sklearn import metrics\n",
    "import matplotlib\n",
    "from matplotlib import pyplot as plt\n",
    "import scipy\n",
    "\n",
    "\n",
    "#y = final_data['result']\n",
    "#X = final_data.drop(['ID', 'result'], axis=1)\n",
    "\n",
    "kf = KFold(n_splits=10, shuffle=True)\n",
    "#print(kf)\n",
    "\n",
    "acc = []\n",
    "pre = []\n",
    "rec = []\n",
    "# clf = LogisticRegression()\n",
    "# clf = tree.DecisionTreeClassifier()\n",
    "# clf = RandomForestClassifier(n_estimators=100, max_depth=2, random_state=0)\n",
    "# clf = GaussianNB()\n",
    "clf = SVC(kernel = 'rbf',  gamma=0.7, C=1.0)\n",
    "\n",
    "predict=[]\n",
    "test=[]\n",
    "\n",
    "for train_index, test_index in kf.split(X):\n",
    "    #print(\"TRAIN:\", train_index, \"TEST:\", test_index)\n",
    "    \n",
    "    X_train, X_test = X[train_index], X[test_index]\n",
    "    y_train, y_test = y[train_index], y[test_index]\n",
    "    \n",
    "    print(test_index)\n",
    "    \n",
    "    clf.fit(X_train, y_train)\n",
    "    pred = clf.predict(X_test)\n",
    "    \n",
    "    acc.append(accuracy_score(y_test, pred))\n",
    "    pre.append(precision_score(y_test, pred))\n",
    "    rec.append(recall_score(y_test, pred))\n",
    "    print('True:', y_test)\n",
    "    print('False:', pred)\n",
    "    \n",
    "    for a in y_test:\n",
    "        test.append(a)\n",
    "    for b in pred:\n",
    "        predict.append(b)    \n",
    "    \n",
    "print(np.mean(acc))\n",
    "print(np.mean(pre))\n",
    "print(np.mean(rec))\n",
    "\n",
    "print(metrics.confusion_matrix(test, predict))\n",
    "\n",
    "# plot_decision_boundary(test, predict)\n"
   ]
  },
  {
   "cell_type": "code",
   "execution_count": null,
   "metadata": {},
   "outputs": [],
   "source": []
  }
 ],
 "metadata": {
  "kernelspec": {
   "display_name": "Python 3",
   "language": "python",
   "name": "python3"
  },
  "language_info": {
   "codemirror_mode": {
    "name": "ipython",
    "version": 3
   },
   "file_extension": ".py",
   "mimetype": "text/x-python",
   "name": "python",
   "nbconvert_exporter": "python",
   "pygments_lexer": "ipython3",
   "version": "3.7.1"
  }
 },
 "nbformat": 4,
 "nbformat_minor": 2
}
